{
 "cells": [
  {
   "cell_type": "markdown",
   "id": "9eb8b595",
   "metadata": {},
   "source": [
    "# Write a Python Program to implement your own myreduce() function which works exactly like Python's built-in function reduce()"
   ]
  },
  {
   "cell_type": "code",
   "execution_count": 8,
   "id": "29b04928",
   "metadata": {},
   "outputs": [],
   "source": [
    "def myreduce(list,operation):\n",
    "    elem = list[0]\n",
    "    leng=len(list)\n",
    "    for i in list[1:(leng)]:\n",
    "        elem=operation(elem,i)\n",
    "    return elem    \n",
    "def maxi(a,b):\n",
    "    if a>b:\n",
    "        return a\n",
    "    else:\n",
    "        return b"
   ]
  },
  {
   "cell_type": "code",
   "execution_count": 9,
   "id": "9f3158c1",
   "metadata": {},
   "outputs": [],
   "source": [
    "#Provide List\n",
    "mynum=[5,4,3,2,1,9,7,8]"
   ]
  },
  {
   "cell_type": "code",
   "execution_count": 10,
   "id": "8fbab5a1",
   "metadata": {},
   "outputs": [
    {
     "data": {
      "text/plain": [
       "9"
      ]
     },
     "execution_count": 10,
     "metadata": {},
     "output_type": "execute_result"
    }
   ],
   "source": [
    "# Run Function\n",
    "myreduce(mynum,maxi)"
   ]
  },
  {
   "cell_type": "markdown",
   "id": "fb8c5c2f",
   "metadata": {},
   "source": [
    "# Write a Python program to implement your own myfilter() function which works exactly like Python's built-in function filter()"
   ]
  },
  {
   "cell_type": "code",
   "execution_count": 2,
   "id": "be4bed39",
   "metadata": {},
   "outputs": [],
   "source": [
    "# Create Filter function\n",
    "def myfilter(fun,values):\n",
    "    result=list()\n",
    "    for i in values:\n",
    "        if fun(i):\n",
    "            result.append(i)\n",
    "    return result       "
   ]
  },
  {
   "cell_type": "code",
   "execution_count": 3,
   "id": "074c2218",
   "metadata": {},
   "outputs": [],
   "source": [
    "def fun(x):\n",
    "    if x%5==0:\n",
    "        return True\n",
    "    else:\n",
    "        return False"
   ]
  },
  {
   "cell_type": "code",
   "execution_count": 4,
   "id": "b90e2605",
   "metadata": {},
   "outputs": [
    {
     "name": "stdout",
     "output_type": "stream",
     "text": [
      "My filter output is :\n",
      "[15, 50]\n"
     ]
    }
   ],
   "source": [
    "lst=[15,23,24,50,21]\n",
    "print(f\"My filter output is :\")\n",
    "print(myfilter(fun,lst))"
   ]
  },
  {
   "cell_type": "markdown",
   "id": "b4336a35",
   "metadata": {},
   "source": [
    "# ['x', 'xx', 'xxx', 'xxxx', 'y', 'yy', 'yyy', 'yyyy', 'z', 'zz', 'zzz', 'zzzz']"
   ]
  },
  {
   "cell_type": "code",
   "execution_count": null,
   "id": "cc8202fa",
   "metadata": {},
   "outputs": [],
   "source": [
    "l1=[\"x\",\"y\",\"z\"]\n",
    "list1=[i*j for j in l1 for i in range(1,5)]"
   ]
  },
  {
   "cell_type": "markdown",
   "id": "fb772ffc",
   "metadata": {},
   "source": [
    "# ['x', 'y', 'z', 'xx', 'yy', 'zz', 'xxx', 'yyy', 'zzz', 'xxxx', 'yyyy', 'zzzz']"
   ]
  },
  {
   "cell_type": "code",
   "execution_count": null,
   "id": "c959e12d",
   "metadata": {},
   "outputs": [],
   "source": [
    "l2=[\"x\",\"y\",\"z\"]\n",
    "list2=[i*j  for i in range(1,5)for j in l2]"
   ]
  },
  {
   "cell_type": "markdown",
   "id": "97081aef",
   "metadata": {},
   "source": [
    "# [[2], [3], [4], [3], [4], [5], [4], [5], [6]] [[2, 3, 4, 5], [3, 4, 5, 6],[4, 5, 6, 7], [5, 6, 7, 8]]"
   ]
  },
  {
   "cell_type": "code",
   "execution_count": 12,
   "id": "8fa81c13",
   "metadata": {},
   "outputs": [
    {
     "name": "stdout",
     "output_type": "stream",
     "text": [
      "[[2], [3], [4], [3], [4], [5], [4], [5], [6]] [[2, 3, 4, 5], [3, 4, 5, 6], [4, 5, 6, 7], [5, 6, 7, 8]]\n"
     ]
    }
   ],
   "source": [
    "list3=[[x+y] for y in range(3) for x in range(2,5)]\n",
    "list4=[[a+b for b in range(2,6)] for a in range(4)]\n",
    "print(str(list3)+\" \"+str(list4))"
   ]
  },
  {
   "cell_type": "markdown",
   "id": "5ca6d38b",
   "metadata": {},
   "source": [
    "# [(1, 1), (2, 1), (3, 1), (1, 2), (2, 2), (3, 2), (1, 3), (2, 3), (3, 3)]"
   ]
  },
  {
   "cell_type": "code",
   "execution_count": null,
   "id": "ad3622e2",
   "metadata": {},
   "outputs": [],
   "source": [
    "list5=[(x,y) for y in range(1,4) for x in range (1,4)]\n",
    "list5"
   ]
  }
 ],
 "metadata": {
  "kernelspec": {
   "display_name": "Python 3",
   "language": "python",
   "name": "python3"
  },
  "language_info": {
   "codemirror_mode": {
    "name": "ipython",
    "version": 3
   },
   "file_extension": ".py",
   "mimetype": "text/x-python",
   "name": "python",
   "nbconvert_exporter": "python",
   "pygments_lexer": "ipython3",
   "version": "3.8.10"
  }
 },
 "nbformat": 4,
 "nbformat_minor": 5
}
